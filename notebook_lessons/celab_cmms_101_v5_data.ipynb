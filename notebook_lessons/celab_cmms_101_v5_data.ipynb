{
 "cells": [
  {
   "cell_type": "markdown",
   "metadata": {},
   "source": [
    "# Python 101:  Working with Data\n",
    "\n",
    "You are reading a Jupyter Notebook.  Hopefully you have already worked through the Jupyter Notebooks tutorial and you have the nbextensions installed, and the outline view and spell checker enabled.  In addition, be sure to toggle line numbers on from the `View` menu above.  Remember, you can make the text bigger with `ctrl-+`.  (https://realpython.com/jupyter-notebook-introduction/).  For now we will work with two kinds of cells.  The cell you are reading now is called a Markdown cell.  Look at the second row of the menu.  On the right you will see `Markdown` in a drop down list box.  This tells you you are in a markdown cell. \n",
    "\n",
    "For more on Jupyter Notebooks go here https://www.dataquest.io/blog/jupyter-notebook-tips-tricks-shortcuts/"
   ]
  },
  {
   "cell_type": "markdown",
   "metadata": {},
   "source": [
    "## Python codes\n",
    "\n",
    "[100 Basic Python Codes Cookbook](https://newdigitals.org/2024/02/24/100-basic-python-codes/)"
   ]
  },
  {
   "cell_type": "code",
   "execution_count": null,
   "metadata": {},
   "outputs": [],
   "source": []
  },
  {
   "cell_type": "markdown",
   "metadata": {},
   "source": [
    "## Hello World\n",
    "\n",
    "It is traditional when using a new piece of software that you write and execute a hello world program.  This shows you that the software is working on your computer and that you can access it.  Go ahead and click on the cell below this one so it is outlined in green and then type Ctrl-Enter (Note this is shorthand for saying press down on the Ctrl key and the Enter key at the same time).  "
   ]
  },
  {
   "cell_type": "code",
   "execution_count": 1,
   "metadata": {},
   "outputs": [
    {
     "name": "stdout",
     "output_type": "stream",
     "text": [
      "hello world\n"
     ]
    }
   ],
   "source": [
    "# Hello World Program\n",
    "print('hello world')"
   ]
  },
  {
   "cell_type": "markdown",
   "metadata": {},
   "source": [
    "Line 1 is a comment and ignored by Python.  Line 2 calls the built-in `print` function in Python and has it display `hello world` on your screen.\n",
    "   "
   ]
  },
  {
   "cell_type": "markdown",
   "metadata": {},
   "source": [
    "# Data and Variables\n",
    "\n",
    "In programming we have **data** and **statements** that manipulate data.  To work with data we must first get access to the data we want to process.  We have many options, for example: \n",
    "\n",
    "1. We can put the data in our program in what are called **literals**.  \n",
    "2. We can enter the data in our program using the **input** function.    \n",
    "3. We can **read** data from a file.\n",
    "4. We can **capture** data from sensors built into hardware.\n",
    "5. we can **scrape** data from web pages. \n",
    "\n",
    "Before a program can use data it must be put into our computer's memory.  Since computer memory is just zeros (physical off) and ones (physical on), data is encoded in memory according to its **type**, that is, the pattern of zeros and ones that represent the data.  For example, **boolean data** (**True** and **False**) are encoded differently than **integers**, which are encoded differently than **floating point numbers**, which are encoded differently than character **strings**.  The nice thing about using a higher level language like Python is that it works with the different data encodings at a level mostly invisible to the programmer.   \n",
    "\n",
    "We will use the **assignment statements** to put data into memory.  Once the data is in memory we can manipulate the data using **expressions**.  We will soon learn about **arithmetic expressions** on numeric data and **string expressions** on string data.  When we use an expression to manipulate our data we will use an assignment statement to put the result of the expression in memory.  Once we have computed an expression and stored the result we will use the **print** function to display the result on a screen for us to see. \n",
    "\n",
    "The types of data we will cover here are **string** data, and two of the numeric data types: **integers**, and **floats**."
   ]
  },
  {
   "cell_type": "markdown",
   "metadata": {},
   "source": [
    "# Strings\n",
    "\n",
    "A **string** in Python is a sequence of printable characters.  In Python we represent a string by putting the characters in quotes like the string below.\n",
    "```python\n",
    "\"Hello World\"\n",
    "```\n",
    "We call a character string in quotes a **string literal**.  When Python encounters a string literal in our Python code it converts the literal into a specific internal arrangement of 0's and 1's so it can be stored in computer memory.  When Python prints the string to some output device, say your monitor, the string of 0's and 1's in memory are converted to character codes for your monitor.  \n",
    "\n",
    "> **Try It**<br>\n",
    "1. Click your mouse cursor inside the code cell bellow and then type the literal `\"Hello World\"` \n",
    "2. Press the `Ctrl` and `Enter` key at the same time on the keyboard to execute the code cell.  Note in the future we refer to this combination as `Ctrl-Enter`. "
   ]
  },
  {
   "cell_type": "code",
   "execution_count": 2,
   "metadata": {},
   "outputs": [
    {
     "data": {
      "text/plain": [
       "'Hello World'"
      ]
     },
     "execution_count": 2,
     "metadata": {},
     "output_type": "execute_result"
    }
   ],
   "source": [
    "\"Hello World\""
   ]
  },
  {
   "cell_type": "markdown",
   "metadata": {},
   "source": [
    "**What just happened?**\n",
    "\n",
    "You entered the string \"Hello World\" into the code cell and execute it.  During execution the literal was echoed back on the line below called `Out[##]`.  \n",
    "\n",
    ">**Experiment** <br><br>Now is a good time to experiment. Try using the `+` menu key to build a new cell below and then try the whole process again without the ending quote.  You will get an error.  Python follows strict syntax rules for what counts as code and if you break a rule Python doesn't know what to do.  When this happens Python stops trying to execute your code and displays an error message.  You should start getting use to the error messages Python uses and see what they mean since you will spend a lot of time fixing your code.  Most of the time `syntax errors` are easy to fix.          "
   ]
  },
  {
   "cell_type": "markdown",
   "metadata": {},
   "source": [
    "## The Assignment Statement \n",
    "\n",
    "In the code cell below we create a variable named `greeting` and use the assignnment operator, `=`, to map the string literal `\"Hello\"` to greeting.  Now when we want to refer to the data `\"Hello\"` we will use the variable named greeting."
   ]
  },
  {
   "cell_type": "code",
   "execution_count": 3,
   "metadata": {},
   "outputs": [
    {
     "name": "stdout",
     "output_type": "stream",
     "text": [
      "Hello\n"
     ]
    }
   ],
   "source": [
    "greeting = \"Hello\"\n",
    "print(greeting)"
   ]
  },
  {
   "cell_type": "markdown",
   "metadata": {},
   "source": [
    "**What just happened?**\n",
    "\n",
    "* In line 1 build an assignment statement using the `=` operator in Python.\n",
    "    * The Python interpreter notices the literal and places the string `Hello` into memory.\n",
    "    * To the left of the `=` operator we typed the variable name `greeting`.\n",
    "    * The Python interpreter will now know the variable named `greeting` points to the string `Hello` in memory.  \n",
    "* In line 2 we use the variable `greeting` as an argument to the `print` function.\n",
    "    * The Python interpreter then gets the data pointed to by the variable `greeting` and prints out the data in the space below the cell."
   ]
  },
  {
   "cell_type": "markdown",
   "metadata": {},
   "source": [
    "We can use the assignment operator to have a second variable name point to the same data in memory.  Execute the example below.  \n",
    "\n",
    "> **Note:**<br>\n",
    "In a notebook when you execute a cell it remembers the consequence of previous cell executions.  Thus we can say `b = greeting` below because we executed the code cell above.  If we fail to execute the cell above we will get an error when we try to execute `b = greeting`."
   ]
  },
  {
   "cell_type": "code",
   "execution_count": 4,
   "metadata": {},
   "outputs": [
    {
     "name": "stdout",
     "output_type": "stream",
     "text": [
      "Hello\n"
     ]
    }
   ],
   "source": [
    "b = greeting\n",
    "print(b)"
   ]
  },
  {
   "cell_type": "markdown",
   "metadata": {},
   "source": [
    "Notice b also points to `Hello` in memory.  Now things will get a little complicated, but try to following whats happening in the example below."
   ]
  },
  {
   "cell_type": "code",
   "execution_count": 5,
   "metadata": {},
   "outputs": [
    {
     "name": "stdout",
     "output_type": "stream",
     "text": [
      "Hello Visitor\n",
      "Hello Visitor\n",
      "\n",
      "Hello to you\n",
      "Hello Visitor\n",
      "\n",
      "Hello to you\n"
     ]
    }
   ],
   "source": [
    "greeting = \"Hello Visitor\"\n",
    "b = greeting\n",
    "print(greeting)\n",
    "print(b)\n",
    "print()\n",
    "\n",
    "greeting = \"Hello to you\"\n",
    "print(greeting)\n",
    "print(b)\n",
    "print()\n",
    "\n",
    "b = greeting\n",
    "print(b)"
   ]
  },
  {
   "cell_type": "markdown",
   "metadata": {},
   "source": [
    "**What just happened?**\n",
    "\n",
    "* In line 1 `greeting` points to `Hello Visitor` in memory.\n",
    "* In line 2 `b` also points to the same `Hello Visitor` in memory.\n",
    "* In line 7 `greeting` now points to `Hello to you` in memory, but `b` still points to `Hello Visitor`\n",
    "* In line 12 `b` now point to the same string, i.e., `Hello to you`, in memory as the variable named `greeting`.\n",
    "\n",
    "So after line 12 what happened to `Hello Visitor` in memory?  The answer is it may or may not still be there, but our program has no way to recall it since it is no longer associated with a variable name.\n"
   ]
  },
  {
   "cell_type": "markdown",
   "metadata": {},
   "source": [
    "## Exercise  \n",
    "\n",
    "Find the error in each code cell below and fix the code to make it work.  Notice the third one is a little tricky so look at the code closely."
   ]
  },
  {
   "cell_type": "code",
   "execution_count": 6,
   "metadata": {},
   "outputs": [
    {
     "name": "stdout",
     "output_type": "stream",
     "text": [
      "Hello World\n"
     ]
    }
   ],
   "source": [
    "greeting = \"Hello World\"\n",
    "print(greeting)"
   ]
  },
  {
   "cell_type": "code",
   "execution_count": 7,
   "metadata": {},
   "outputs": [
    {
     "name": "stdout",
     "output_type": "stream",
     "text": [
      "Hello World\n"
     ]
    }
   ],
   "source": [
    "greetings = \"Hello World\"\n",
    "print(greeting)"
   ]
  },
  {
   "cell_type": "code",
   "execution_count": 8,
   "metadata": {},
   "outputs": [
    {
     "name": "stdout",
     "output_type": "stream",
     "text": [
      "Hello World\n"
     ]
    }
   ],
   "source": [
    "greet = \"Hello World\"\n",
    "print(greet)"
   ]
  },
  {
   "cell_type": "markdown",
   "metadata": {},
   "source": [
    "## f-strings\n",
    "\n",
    "We can use f-strings to format strings.  Here is an example."
   ]
  },
  {
   "cell_type": "code",
   "execution_count": 9,
   "metadata": {},
   "outputs": [
    {
     "name": "stdout",
     "output_type": "stream",
     "text": [
      "Hello Kevin\n"
     ]
    }
   ],
   "source": [
    "first_name = \"Kevin\"\n",
    "specific_greeting = f\"Hello {first_name}\"  # Notice ths space between Hello and {first_name}\n",
    "print(specific_greeting)"
   ]
  },
  {
   "cell_type": "markdown",
   "metadata": {},
   "source": [
    "What just happened?\n",
    "\n",
    "* In line one we assigned the string 'Kevin' to the variable `first_name`.\n",
    "* In line two we used an f-string to format our specific_greeting string.\n",
    "    * the letter `f\"\"` followed by quotes denotes an f-string \n",
    "    * Inside the quotes we use braces `{}` to enclose the variable `first_name`.\n",
    "    * The string in memory pointed to by `first_name` is substituted for the braces. \n",
    "* In line 2 we assign the memory contents of the f-string to the variable named specific_greeting. \n",
    "* In line 3 we now print the resulting string pointed to by specific_greeting."
   ]
  },
  {
   "cell_type": "markdown",
   "metadata": {},
   "source": [
    "# print()"
   ]
  },
  {
   "cell_type": "markdown",
   "metadata": {},
   "source": [
    "We will write Python in Code cells in our notebook. When we are done entering code we will press `Ctrl-Enter` to run the code. Often the code will already be in the cell and all you have to do is press `Ctrl-Enter` to run it. Do this in the code cell below. "
   ]
  },
  {
   "cell_type": "code",
   "execution_count": 10,
   "metadata": {},
   "outputs": [
    {
     "name": "stdout",
     "output_type": "stream",
     "text": [
      "Hello World\n"
     ]
    }
   ],
   "source": [
    "# The first thing a programmer will write in a new langage is the\n",
    "# ubiquitous \"Hello World\" program.\n",
    "print(\"Hello World\")\n",
    "# Below this block of code you will see the result of the print statement."
   ]
  },
  {
   "cell_type": "markdown",
   "metadata": {},
   "source": [
    "**What just happened?**\n",
    "\n",
    "* **Lines 1, 2, and 4** above are comments.  Notice a Python comment starts with the hash symbol, #.  Python ignores comments but you can use them to explain what your code is doing.\n",
    "* **Line 3** above is the first line of executable code.  It starts with the word `print` followed by the character string `\"Hello World\"` enclosed in left and right parentheses.  \n",
    "    * When the cell above is executed (by pressing Ctrl-Enter inside that cell) the string literal is printed as`Hello World` without quotes to the terminal just below the code cell.\n",
    "    * We call `print` a function and the literal `\"Hello World\"` an argument of the print function, and we note that arguments of a function are placed within left and right parentheses.\n",
    "    * The print function a *built-in* function since it comes pre-installed with Python.   "
   ]
  },
  {
   "cell_type": "markdown",
   "metadata": {},
   "source": [
    "## Basic Editing Practice \n",
    "You can edit code in a notebook in a way similar to using a word processor.  For example you can highlight code save it to a clip-board and then copy the code to another location.  You can also insert code and delete it.  Try this now.\n",
    ">**Practice**\n",
    " 1. Click on this cell.\n",
    " 2. Make a new code cell below using the `+` menu item.  \n",
    " 3. Highlight the `print(\"Hello World\")` line in the code cell above using your mouse and press `Ctrl-c` to copy it.\n",
    " 4. Click in the code cell you made below and press `Ctrl-v` to paste what you copied in the cell.\n",
    " 5. Add something like \"Hello World! I am here.\" By clicking your mouse after `World` and typing `! I am here.` just like a word processor.\n",
    "6. Press Ctrl-Enter to run the cell."
   ]
  },
  {
   "cell_type": "code",
   "execution_count": 11,
   "metadata": {},
   "outputs": [
    {
     "name": "stdout",
     "output_type": "stream",
     "text": [
      "Hello World! I am here.\n"
     ]
    }
   ],
   "source": [
    "print(\"Hello World! I am here.\")"
   ]
  },
  {
   "cell_type": "markdown",
   "metadata": {},
   "source": [
    "## Making Intentional Errors  \n",
    "By purposefully making errors you learn what to expect what messages Python will produce when an error is encountered.  Later on when you make an unintentional error you have a better chance of fixing it.  try the following experiment below and notice the different types of error messages you get.\n",
    "\n",
    ">**Experiment**<br>\n",
    " 1. Make a new code cell below.  \n",
    " 2. Type in `print(\"hello world\"`  \n",
    "     Without a closing right parentheses.\n",
    " 3. Press `Ctrl-Enter` to run the cell.\n",
    " 4. Next try `print(hello world)`  Notice, there are no quotes around `hello world`. \n",
    " 5. Also try `prin(\"hello world\")`  Notice, print is misspelled as prin."
   ]
  },
  {
   "cell_type": "code",
   "execution_count": 12,
   "metadata": {},
   "outputs": [
    {
     "ename": "NameError",
     "evalue": "name 'prin' is not defined",
     "output_type": "error",
     "traceback": [
      "\u001b[31m---------------------------------------------------------------------------\u001b[39m",
      "\u001b[31mNameError\u001b[39m                                 Traceback (most recent call last)",
      "\u001b[36mCell\u001b[39m\u001b[36m \u001b[39m\u001b[32mIn[12]\u001b[39m\u001b[32m, line 1\u001b[39m\n\u001b[32m----> \u001b[39m\u001b[32m1\u001b[39m \u001b[43mprin\u001b[49m(\u001b[33m\"\u001b[39m\u001b[33mhello world\u001b[39m\u001b[33m\"\u001b[39m)\n",
      "\u001b[31mNameError\u001b[39m: name 'prin' is not defined"
     ]
    }
   ],
   "source": [
    "prin(\"hello world\")"
   ]
  },
  {
   "cell_type": "markdown",
   "metadata": {},
   "source": [
    "## More on the print function\n",
    "\n",
    "You can use the `end=\"\"` argument to tell the print function what you want to to an the end of the print statement, and you can use the `sep=\"\"` argument to tell the print function what to do when it finishes printing an argument in the print statement.  Here are some examples."
   ]
  },
  {
   "cell_type": "code",
   "execution_count": null,
   "metadata": {},
   "outputs": [
    {
     "name": "stdout",
     "output_type": "stream",
     "text": [
      "Hello\n",
      "to\n",
      "you\n",
      "Hello to you\n",
      "Hello-to-you\n",
      "Hello to you\n",
      "Hello::to::you\n",
      "Hello::to::you!"
     ]
    }
   ],
   "source": [
    "# printing on a new line each time\n",
    "print (\"Hello\")\n",
    "print (\"to\")\n",
    "print (\"you\")\n",
    "\n",
    "# printing on the same line each time\n",
    "print (\"Hello\", end = ' ')\n",
    "print (\"to\", end = ' ')\n",
    "print (\"you\")\n",
    "\n",
    "# notice the space in the end = ' ' let's replace it with a hyphen.\n",
    "print (\"Hello\", end = '-')\n",
    "print (\"to\", end = '-')\n",
    "print (\"you\")\n",
    "\n",
    "# lets look at what sep(\"string\") does\n",
    "print (\"Hello\", \"to\", \"you\")  # notice multiple arguments are seperated by commas\n",
    "print (\"Hello\", \"to\", \"you\", sep = '::')\n",
    "print (\"Hello\", \"to\", \"you\", sep = '::', end = '!')"
   ]
  },
  {
   "cell_type": "markdown",
   "metadata": {},
   "source": [
    ">**Practice**<br>\n",
    " 1. Click on this cell.\n",
    " 2. Make a new code cell below using the `+` menu item.  \n",
    " 3. See what happens if you type `print(\"\")` and execute it. <br>\n",
    "Notice the string is called the **empty string**, that is, nothing between the quotes.\n",
    " 4. See what happens if you type `print()` and execute it."
   ]
  },
  {
   "cell_type": "code",
   "execution_count": null,
   "metadata": {},
   "outputs": [
    {
     "name": "stdout",
     "output_type": "stream",
     "text": [
      "\n"
     ]
    }
   ],
   "source": [
    "print()"
   ]
  },
  {
   "cell_type": "markdown",
   "metadata": {},
   "source": [
    "# input()\n",
    "So far we needed a number or string to use we entered it into our program.  A more general approach would be to let a person using our program enter the values they need when they run the program.  To do this, Python has a built in functions called `input`.  Here is an example. "
   ]
  },
  {
   "cell_type": "code",
   "execution_count": null,
   "metadata": {},
   "outputs": [
    {
     "name": "stdout",
     "output_type": "stream",
     "text": [
      "Please enter your first name:  Jon\n"
     ]
    },
    {
     "name": "stdout",
     "output_type": "stream",
     "text": [
      "Hello World Jon\n"
     ]
    }
   ],
   "source": [
    "first_name = input(\"Please enter your first name: \")\n",
    "print(f\"{greeting} {first_name}\")"
   ]
  },
  {
   "cell_type": "markdown",
   "metadata": {},
   "source": [
    "What just happened?\n",
    "\n",
    "* In **line one**, the `input` function asks the user for an input. \n",
    "* The wording of the request is the string argument `\"Please enter your first name: \"`. \n",
    "* When line one is run the request is printed followed by an input box.\n",
    "* The program then waits for user input.    \n",
    "* The input is converted to a string and the variable `first_name` is assigned the input string. \n",
    "* In **line two**, the `print` function is then called using an f-string as an argument."
   ]
  },
  {
   "cell_type": "markdown",
   "metadata": {},
   "source": [
    "# Numbers"
   ]
  },
  {
   "cell_type": "markdown",
   "metadata": {},
   "source": [
    "We start by looking at two data types, integers, and floats. Some examples of this are shown in the next cell. Click on the next code cell and be sure to press Ctrl-Enter."
   ]
  },
  {
   "cell_type": "code",
   "execution_count": null,
   "metadata": {},
   "outputs": [],
   "source": [
    "# Quantities and price\n",
    "quantity_apples = 10         \n",
    "price_apple = 0.75          "
   ]
  },
  {
   "cell_type": "markdown",
   "metadata": {},
   "source": [
    "What just happened?\n",
    "\n",
    "We used two **assignment statements** to assign a variable name to a numeric value.  The equal sign,` =`, is used to express this assignment.  Whne we execute the assignment statement (with Ctrl-Enter) we place the numeric value in computer memory.  We can thenrefer to this value using the variable name.  The variable names are `quantity_apples` and `price_apple` while the values are `10` and `.75` respectively.  The value `10` is a whole number and is called an **integer**.  The value `.75` is a decimal number and is called a **float**."
   ]
  },
  {
   "cell_type": "markdown",
   "metadata": {},
   "source": [
    "# type(), str(), int(), float()\n",
    "\n",
    "Python also has built in functions to convert the values of a variable to a different type.  For example we can use \n",
    "\n",
    "```python\n",
    "str(var_name)\n",
    "```\n",
    "to convert the value assigned to `var_name` to a string.  We can also use\n",
    "\n",
    "```python\n",
    "type(var_name)\n",
    "```\n",
    "to determine the type of value assigned to `var_name`.  See more examples in the code below."
   ]
  },
  {
   "cell_type": "code",
   "execution_count": null,
   "metadata": {},
   "outputs": [
    {
     "name": "stdout",
     "output_type": "stream",
     "text": [
      "The type of value assigned to variable a is <class 'int'>\n"
     ]
    }
   ],
   "source": [
    "a = 10\n",
    "print(f\"The type of value assigned to variable a is {type(a)}\")"
   ]
  },
  {
   "cell_type": "markdown",
   "metadata": {},
   "source": [
    "What just happened?\n",
    "\n",
    "In **line two**, we use the`type` function in a `f-string` to `print` the `type` of value assigned to variable `a`. Notice the type of value in `a` is an integer as reported in `<class 'int'>`.  For now we will just not the `'int'`.  Later on we will talk about what `class` means.  "
   ]
  },
  {
   "cell_type": "code",
   "execution_count": null,
   "metadata": {},
   "outputs": [
    {
     "name": "stdout",
     "output_type": "stream",
     "text": [
      "The type of value assigned to variable a is <class 'str'>\n"
     ]
    }
   ],
   "source": [
    "a = str(a)\n",
    "print(f\"The type of value assigned to variable a is {type(a)}\")"
   ]
  },
  {
   "cell_type": "markdown",
   "metadata": {},
   "source": [
    "What just happened?\n",
    "\n",
    "In **line one**, we used the `str` function to convert the value assigned to `a` to a string.\n",
    "In **line two**, we use the`type` function in a `f-string` to `print` the `type` of value assigned to variable `a`. Notice the type of value in `a` is now reported as a sting, i.e., `<class 'str'>`. "
   ]
  },
  {
   "cell_type": "markdown",
   "metadata": {},
   "source": [
    "Here are some more conversions.  Look carefully at what each one does."
   ]
  },
  {
   "cell_type": "code",
   "execution_count": null,
   "metadata": {},
   "outputs": [
    {
     "name": "stdout",
     "output_type": "stream",
     "text": [
      "The value of a is 10 and its type is <class 'int'>\n",
      "The value of a is 10.0 and its type is <class 'float'>\n"
     ]
    }
   ],
   "source": [
    "a = 10\n",
    "print(f\"The value of a is {a} and its type is {type(a)}\")\n",
    "a = float(a)\n",
    "print(f\"The value of a is {a} and its type is {type(a)}\")"
   ]
  },
  {
   "cell_type": "code",
   "execution_count": null,
   "metadata": {},
   "outputs": [
    {
     "name": "stdout",
     "output_type": "stream",
     "text": [
      "The value of a is 7.7 and its type is <class 'float'>\n",
      "The value of a is 7 and its type is <class 'int'>\n"
     ]
    }
   ],
   "source": [
    "a = 7.7\n",
    "print(f\"The value of a is {a} and its type is {type(a)}\")\n",
    "a = int(a)\n",
    "print(f\"The value of a is {a} and its type is {type(a)}\")"
   ]
  },
  {
   "cell_type": "code",
   "execution_count": null,
   "metadata": {},
   "outputs": [
    {
     "name": "stdout",
     "output_type": "stream",
     "text": [
      "The value of a is 7.7 and its type is <class 'float'>\n",
      "The value of a is '7.7' and its type is <class 'str'>\n"
     ]
    }
   ],
   "source": [
    "a = 7.7\n",
    "print(f\"The value of a is {a} and its type is {type(a)}\")\n",
    "a = str(a)\n",
    "print(f\"The value of a is '{a}' and its type is {type(a)}\")"
   ]
  },
  {
   "cell_type": "markdown",
   "metadata": {},
   "source": [
    "# Arithmetic Expressions"
   ]
  },
  {
   "cell_type": "markdown",
   "metadata": {},
   "source": [
    "We manipulate numeric data with arithmetic expressions which consist of **operators** together with **variable names**,  **constants**, and **functions**."
   ]
  },
  {
   "cell_type": "code",
   "execution_count": null,
   "metadata": {},
   "outputs": [
    {
     "name": "stdout",
     "output_type": "stream",
     "text": [
      "7.5\n"
     ]
    }
   ],
   "source": [
    "quantity_apples = 10         \n",
    "price_apple = 0.75  \n",
    "apple_expense = quantity_apples * price_apple\n",
    "print(apple_expense)"
   ]
  },
  {
   "cell_type": "markdown",
   "metadata": {},
   "source": [
    "What just happened?\n",
    "\n",
    "1. In **lines one and two**, we used assignment statements to give values to `quantity_apples` and `price_apple`.\n",
    "2. In **line three**, we used an arithmetic expression to multiply `quantity_apples` and `price_apple` and assigned the resulting value to `apple_expense`.  Notice that multiplication is indicated by the operator `*`. \n",
    "\n",
    ">**Note:**<br><br>\n",
    "You can also print numbers with the `print()` function.  In this case the Python interpreter converts the number to a string representation of the number and then prints the string."
   ]
  },
  {
   "cell_type": "markdown",
   "metadata": {},
   "source": [
    "The operators we can use in an arithmentic expression are the following:\n",
    "\n",
    "            Operation     Symbol   Order\n",
    "\n",
    "        * Parentheses       ()       1\n",
    "        * Exponetiation     **       2\n",
    "        * Unary Negation    -        3\n",
    "        * Division          /        4\n",
    "        * Multiplication    *        4\n",
    "        * Modulus           %        4\n",
    "        * Floor Division   //        4\n",
    "        * Addition          +        5\n",
    "        * Subtraction       -        5\n",
    "        \n",
    "Here are some examples of expressions.  Run the cells to see the results.  The number at the right indicate the order of precedence explained below.  To evaluate an expression the interpreter uses the order of precedence seen in the numbers above.  Lower numbers have precedence over higher number. Equal number (precedence) operations are evaluated from left to right. Note the () indicates an ordering operation and has the highest order of precedence.  Below is an example.    "
   ]
  },
  {
   "cell_type": "code",
   "execution_count": null,
   "metadata": {},
   "outputs": [
    {
     "name": "stdout",
     "output_type": "stream",
     "text": [
      "the value of x**2 is 36\n",
      "the value of -x**2 is -36\n",
      "the value of (-x)**2 is 36\n"
     ]
    }
   ],
   "source": [
    "x = 6\n",
    "\n",
    "print(f\"the value of x**2 is {x**2}\")\n",
    "print(f\"the value of -x**2 is {-x**2}\")  #Note unary negation is applied after exponetiation.\n",
    "\n",
    "#  To change the order of evaluation, use parentheses.\n",
    "print(f\"the value of (-x)**2 is {(-x)**2}\")  # Now -x is done first\n"
   ]
  },
  {
   "cell_type": "markdown",
   "metadata": {},
   "source": [
    ">**Note:**<br><br>\n",
    "You can also print numeric expressions in Python, or put them in f-strings like we did above.  The Python evaluates the numeric expression to a number which it then converts to a string. "
   ]
  },
  {
   "cell_type": "code",
   "execution_count": null,
   "metadata": {},
   "outputs": [
    {
     "name": "stdout",
     "output_type": "stream",
     "text": [
      "the value of x/y*6 is 12.0\n",
      "the value of x/(y*6) is 0.3333333333333333\n"
     ]
    }
   ],
   "source": [
    "x = 6\n",
    "y = 3\n",
    "\n",
    "print(f\"the value of x/y*6 is {x/y*6}\")\n",
    "\n",
    "#  Division and Multiplication are evaluated left to right\n",
    "#  To change the order of evaluation use parentheses.\n",
    "\n",
    "print(f\"the value of x/(y*6) is {x/(y*6)}\")"
   ]
  },
  {
   "cell_type": "markdown",
   "metadata": {},
   "source": [
    "**What just happened?**\n",
    "\n",
    "When Python evaluates an expression it uses operator precedence to determine how to evaluate an expression.  In the example above division, /, and multiplication, +, have the same operator precedence.  When this occurs, e.g., in the expression `x/y*6`, Python evaluates from left to right, e.g., `6/3 = 2 and 2*6 = 12`.  You can change this order with parentheses, e.g., `x/(y*6)`.  Parentheses tell Python to evaluate what is inside the parentheses first, e.g., `3*6 = 18 and 6/18 = .3333333333333333` which is approximately 1/3.  Note, it is not quite 1/3 since a float can only have a finite number of decimal places and cannot express a number with infinite decimal places. "
   ]
  },
  {
   "cell_type": "code",
   "execution_count": null,
   "metadata": {},
   "outputs": [
    {
     "name": "stdout",
     "output_type": "stream",
     "text": [
      "the value of x/y*16**.5 is 4.898979485566356\n",
      "2.449489742783178\n",
      "2.0\n",
      "4.898979485566356\n"
     ]
    }
   ],
   "source": [
    "x = 6\n",
    "y = 3\n",
    "z = .5\n",
    "\n",
    "print(f\"the value of x/y*16**.5 is {x/y*6**.5}\")\n",
    "\n",
    "# in evaluating the expression x/y*6**.5\n",
    "# the operations are done in this order\n",
    "a = 6**.5  # First, exponentiation\n",
    "print(a)\n",
    "b = x/y    # Second, division (note now we are moving left to right)\n",
    "print(b)\n",
    "c = a*b    # Third, multiplication.\n",
    "print(c)"
   ]
  },
  {
   "cell_type": "markdown",
   "metadata": {},
   "source": [
    "### A.  Using a notbook in calculator mode\n",
    "\n",
    "We can use a notebook cell in calculator mode as follows"
   ]
  },
  {
   "cell_type": "code",
   "execution_count": null,
   "metadata": {},
   "outputs": [
    {
     "data": {
      "text/plain": [
       "250.0"
      ]
     },
     "execution_count": 28,
     "metadata": {},
     "output_type": "execute_result"
    }
   ],
   "source": [
    "100**.5*25"
   ]
  },
  {
   "cell_type": "markdown",
   "metadata": {},
   "source": [
    "Note, 100**.5 is the sqaure root of 100 or 10, and 10*25 = 250.  When a cell ends this way in an expression the result is simply printed out.  Notice, only the last expression is printed out.    "
   ]
  },
  {
   "cell_type": "code",
   "execution_count": null,
   "metadata": {},
   "outputs": [
    {
     "data": {
      "text/plain": [
       "200"
      ]
     },
     "execution_count": 29,
     "metadata": {},
     "output_type": "execute_result"
    }
   ],
   "source": [
    "100**.5*25\n",
    "100*2"
   ]
  },
  {
   "cell_type": "markdown",
   "metadata": {},
   "source": [
    "A variable name counts as a very simple expression.  Thus we can also do the following."
   ]
  },
  {
   "cell_type": "code",
   "execution_count": null,
   "metadata": {},
   "outputs": [
    {
     "data": {
      "text/plain": [
       "250.0"
      ]
     },
     "execution_count": 30,
     "metadata": {},
     "output_type": "execute_result"
    }
   ],
   "source": [
    "y = 100**.5*25\n",
    "y"
   ]
  },
  {
   "cell_type": "markdown",
   "metadata": {},
   "source": [
    "### B.  Some unusual arithemtic operators\n",
    "\n",
    "Python has two aritmetic operators, `%` or modulus, which returns the integer remainder of a division, and `//` or floor division, which returns an integer result of A division rounded down to the closest whole number.  Lets look at some examples below. "
   ]
  },
  {
   "cell_type": "code",
   "execution_count": null,
   "metadata": {},
   "outputs": [
    {
     "data": {
      "text/plain": [
       "6.666666666666667"
      ]
     },
     "execution_count": 31,
     "metadata": {},
     "output_type": "execute_result"
    }
   ],
   "source": [
    "20/3"
   ]
  },
  {
   "cell_type": "markdown",
   "metadata": {},
   "source": [
    "So this result is approximately 6 and 2/3.\n",
    "Notice 20 - (6*3) = 2, or the remainder after whole division. "
   ]
  },
  {
   "cell_type": "code",
   "execution_count": null,
   "metadata": {},
   "outputs": [
    {
     "data": {
      "text/plain": [
       "2"
      ]
     },
     "execution_count": 32,
     "metadata": {},
     "output_type": "execute_result"
    }
   ],
   "source": [
    "20 - int((20/3))*3"
   ]
  },
  {
   "cell_type": "code",
   "execution_count": null,
   "metadata": {},
   "outputs": [
    {
     "data": {
      "text/plain": [
       "2"
      ]
     },
     "execution_count": 33,
     "metadata": {},
     "output_type": "execute_result"
    }
   ],
   "source": [
    "20%3"
   ]
  },
  {
   "cell_type": "markdown",
   "metadata": {},
   "source": [
    "Similarly, for floor division."
   ]
  },
  {
   "cell_type": "code",
   "execution_count": null,
   "metadata": {},
   "outputs": [
    {
     "data": {
      "text/plain": [
       "6"
      ]
     },
     "execution_count": 34,
     "metadata": {},
     "output_type": "execute_result"
    }
   ],
   "source": [
    "int(20/3)"
   ]
  },
  {
   "cell_type": "code",
   "execution_count": null,
   "metadata": {},
   "outputs": [
    {
     "data": {
      "text/plain": [
       "6"
      ]
     },
     "execution_count": 35,
     "metadata": {},
     "output_type": "execute_result"
    }
   ],
   "source": [
    "20//3"
   ]
  },
  {
   "cell_type": "code",
   "execution_count": null,
   "metadata": {},
   "outputs": [
    {
     "name": "stdout",
     "output_type": "stream",
     "text": [
      "Enter numerator:  10\n",
      "Enter denomeator:  5\n"
     ]
    },
    {
     "name": "stdout",
     "output_type": "stream",
     "text": [
      "10/5 = 2.0\n",
      "10%5 = 0\n",
      "10//5 = 2\n",
      "10/5 = 2 with remainder 0\n",
      "10/5 = 2 and 0/5\n"
     ]
    }
   ],
   "source": [
    "# here is a little program\n",
    "\n",
    "numerator = int(input(\"Enter numerator: \"))\n",
    "denomenator = int(input(\"Enter denomeator: \"))\n",
    "print(f\"{numerator}/{denomenator} = {numerator/denomenator}\")\n",
    "print(f\"{numerator}%{denomenator} = {numerator%denomenator}\")\n",
    "print(f\"{numerator}//{denomenator} = {numerator//denomenator}\")\n",
    "print(f\"{numerator}/{denomenator} = {numerator//denomenator} with remainder {numerator%denomenator}\")\n",
    "print(f\"{numerator}/{denomenator} = {numerator//denomenator} and {numerator%denomenator}/{denomenator}\")"
   ]
  },
  {
   "cell_type": "markdown",
   "metadata": {},
   "source": [
    "# Programming Style"
   ]
  },
  {
   "cell_type": "markdown",
   "metadata": {},
   "source": [
    "The Python community uses **naming conventions** to help other programmers understand your code.  In Python, variable names should always be lowercase. Variable names with more than one word should be joined by an underscore. Finally, variable names should be chosen to describe the data values assigned to the name. As a rule don't make varaible names too long or they become hard to work with.\n",
    "\n",
    "Comments that start with `#` are also used to help explain the intention behind the code.  A good programmer will choose variable names that are easy to understand in context and usually do not need additional comments.\n",
    "\n",
    "There are many other style conventions that will help the later you and other programmers read and understand your code.  They can be found [here](https://www.python.org/dev/peps/pep-0008/)"
   ]
  },
  {
   "cell_type": "code",
   "execution_count": null,
   "metadata": {},
   "outputs": [
    {
     "name": "stdout",
     "output_type": "stream",
     "text": [
      "6.25\n"
     ]
    }
   ],
   "source": [
    "# Bad example of code\n",
    "a = 25 #quantiy of apples\n",
    "p = .25 #price per apples\n",
    "# Now we will calculate the cost of apples\n",
    "c = a * p\n",
    "# Now we will print out the cost of apples\n",
    "print(c)"
   ]
  },
  {
   "cell_type": "code",
   "execution_count": null,
   "metadata": {},
   "outputs": [
    {
     "name": "stdout",
     "output_type": "stream",
     "text": [
      "The cost of 25 apples is 6.25.\n"
     ]
    }
   ],
   "source": [
    "# Better Code\n",
    "\n",
    "quantity_apples = 25\n",
    "price_apple = .25\n",
    "cost_apples = quantity_apples * price_apple\n",
    "print(f\"The cost of {quantity_apples} apples is {cost_apples}.\")"
   ]
  },
  {
   "cell_type": "markdown",
   "metadata": {},
   "source": [
    "# Example Program\n",
    "\n",
    "We will now write a program that does temperature conversion from Celsius to Fahrenheit.  "
   ]
  },
  {
   "cell_type": "code",
   "execution_count": null,
   "metadata": {},
   "outputs": [
    {
     "name": "stdout",
     "output_type": "stream",
     "text": [
      "Enter temperature in Celsius:  25\n"
     ]
    },
    {
     "name": "stdout",
     "output_type": "stream",
     "text": [
      "25.0C = 77.0F\n"
     ]
    }
   ],
   "source": [
    "# Program to convert celsius to fahrenheit using the formula\n",
    "# fahrenheit = 9/5 * Cclsius + 32\n",
    "celsius = float(input(\"Enter temperature in Celsius: \"))\n",
    "fahrenheit = (9.0/5.0)*celsius + 32.0\n",
    "print (f\"{celsius}C = {fahrenheit}F\")"
   ]
  },
  {
   "cell_type": "markdown",
   "metadata": {},
   "source": [
    "# Exercise"
   ]
  },
  {
   "cell_type": "markdown",
   "metadata": {},
   "source": [
    "Given a quadratic equation of the form,\n",
    "\n",
    "$0=ax^2+bx+c$\n",
    "\n",
    "Then the roots of this equations are given by\n",
    "\n",
    "$x=\\frac{-b \\pm \\sqrt{b^2-4ac}}{2a}$ \n",
    "\n",
    "In the code code cell below and calculate the roots for\n",
    "a = 1, b = 3, c = -4."
   ]
  },
  {
   "cell_type": "code",
   "execution_count": 7,
   "metadata": {},
   "outputs": [
    {
     "name": "stdout",
     "output_type": "stream",
     "text": [
      "The rroot of ax^2 + bx + c is 1.0.\n"
     ]
    }
   ],
   "source": [
    "# Use quadratic formula to solve for the rroots of ax^2 + bx + c \n",
    "\n",
    "a = 1   # quadratic coefficient\n",
    "b = 3   # linear coefficient\n",
    "c = -4  # constant\n",
    "\n",
    "#TODO Use quadratic formula to find roots.\n",
    "\n",
    "x = (-b + (b**2 - 4*a*c)**0.5)/(2*a)\n",
    "print(f\"The rroot of ax^2 + bx + c is {x}.\")"
   ]
  },
  {
   "cell_type": "markdown",
   "metadata": {},
   "source": [
    "But we know that the square root operation can sometimes produce a complex number, i.e., $\\sqrt{-1}$.  Lucky for us python allows us to also use complex numbers.  Copy the code above to the code cell below but now change, a = 3.0, b = 4.0, c = 2.0.  See what you get."
   ]
  },
  {
   "cell_type": "code",
   "execution_count": 8,
   "metadata": {},
   "outputs": [
    {
     "name": "stdout",
     "output_type": "stream",
     "text": [
      "The rroot of ax^2 + bx + c is (-0.6666666666666666+0.47140452079103173j).\n"
     ]
    }
   ],
   "source": [
    "# Use quadratic formula to solve for the rroots of ax^2 + bx + c \n",
    "\n",
    "a = 3.0\n",
    "b = 4.0\n",
    "c = 2.0\n",
    "\n",
    "#TODO Copy your quadratic formula here.\n",
    "x = (-b + (b**2 - 4*a*c)**0.5)/(2*a)\n",
    "print(f\"The rroot of ax^2 + bx + c is {x}.\")\n"
   ]
  },
  {
   "cell_type": "markdown",
   "metadata": {},
   "source": [
    "In the last step copy and change your code below to accept user input for a, b, and c."
   ]
  },
  {
   "cell_type": "code",
   "execution_count": 9,
   "metadata": {},
   "outputs": [
    {
     "name": "stdin",
     "output_type": "stream",
     "text": [
      "Enter a:  20\n",
      "Enter b:  10\n",
      "Enter c:  10\n"
     ]
    },
    {
     "name": "stdout",
     "output_type": "stream",
     "text": [
      "The rroot of ax^2 + bx + c is (-0.24999999999999994+0.6614378277661477j).\n"
     ]
    }
   ],
   "source": [
    "# Use quadratic formula to solve for the rroots of ax^2 + bx + c \n",
    "# given user input for a, b, and c.\n",
    "\n",
    "#TODO: Enter your code here\n",
    "a = float(input(\"Enter a: \"))\n",
    "b = float(input(\"Enter b: \"))\n",
    "c = float(input(\"Enter c: \"))\n",
    "x = (-b + (b**2 - 4*a*c)**0.5)/(2*a)\n",
    "print(f\"The rroot of ax^2 + bx + c is {x}.\")\n",
    "\n"
   ]
  }
 ],
 "metadata": {
  "kernelspec": {
   "display_name": "anaconda-2025.06-py3.11",
   "language": "python",
   "name": "conda-env-anaconda-2025.06-py3.11"
  },
  "language_info": {
   "codemirror_mode": {
    "name": "ipython",
    "version": 3
   },
   "file_extension": ".py",
   "mimetype": "text/x-python",
   "name": "python",
   "nbconvert_exporter": "python",
   "pygments_lexer": "ipython3",
   "version": "3.11.13"
  },
  "toc": {
   "base_numbering": 1,
   "nav_menu": {},
   "number_sections": true,
   "sideBar": true,
   "skip_h1_title": false,
   "title_cell": "Table of Contents",
   "title_sidebar": "Contents",
   "toc_cell": false,
   "toc_position": {
    "height": "calc(100% - 180px)",
    "left": "10px",
    "top": "150px",
    "width": "252px"
   },
   "toc_section_display": true,
   "toc_window_display": true
  }
 },
 "nbformat": 4,
 "nbformat_minor": 4
}
